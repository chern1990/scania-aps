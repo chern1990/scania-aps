{
 "cells": [
  {
   "cell_type": "code",
   "execution_count": 1,
   "metadata": {
    "scrolled": true
   },
   "outputs": [
    {
     "name": "stderr",
     "output_type": "stream",
     "text": [
      "C:\\Users\\Chern\\AppData\\Local\\Programs\\Python\\Python37-32\\lib\\site-packages\\sklearn\\externals\\six.py:31: DeprecationWarning: The module is deprecated in version 0.21 and will be removed in version 0.23 since we've dropped support for Python 2.7. Please rely on the official version of six (https://pypi.org/project/six/).\n",
      "  \"(https://pypi.org/project/six/).\", DeprecationWarning)\n"
     ]
    }
   ],
   "source": [
    "import os\n",
    "import pandas as pd\n",
    "import numpy as np\n",
    "import seaborn as sns\n",
    "import matplotlib.pyplot as plt\n",
    "from pylab import rcParams\n",
    "import pickle\n",
    "%matplotlib inline\n",
    "from pathlib import Path\n",
    "\n",
    "from imblearn.over_sampling import SMOTE\n",
    "from tqdm import tqdm\n",
    "# SK-Learn related libraries\n",
    "from sklearn.preprocessing import LabelEncoder\n",
    "from sklearn.preprocessing import OneHotEncoder\n",
    "from sklearn.preprocessing import StandardScaler\n",
    "from sklearn.preprocessing import LabelBinarizer\n",
    "from sklearn.impute import SimpleImputer\n",
    "from sklearn.model_selection import train_test_split\n",
    "from sklearn.model_selection import GridSearchCV\n",
    "from sklearn.linear_model import LogisticRegression\n",
    "from sklearn.ensemble import RandomForestClassifier\n",
    "from sklearn.ensemble import GradientBoostingClassifier\n",
    "from sklearn import metrics\n",
    "from sklearn.metrics import confusion_matrix"
   ]
  },
  {
   "cell_type": "code",
   "execution_count": 2,
   "metadata": {},
   "outputs": [],
   "source": [
    "os.chdir(Path().absolute())"
   ]
  },
  {
   "cell_type": "markdown",
   "metadata": {},
   "source": [
    "### Data Loading  \n",
    "1. Read APS failure training set, skip first 20 description rows. \n",
    "2. Replace string 'na' to actual NA"
   ]
  },
  {
   "cell_type": "code",
   "execution_count": 3,
   "metadata": {},
   "outputs": [],
   "source": [
    "# read dataset, skip first 20 rows description, replace 'na' to NA\n",
    "df = pd.read_csv('aps_failure_training_set.csv', sep=',', skiprows=20, na_values=['na'])\n",
    "df_test = pd.read_csv('aps_failure_test_set.csv', sep=',', skiprows=20, na_values=['na'])\n",
    "# create a backup original dataframe\n",
    "df_ori = df.copy()\n",
    "df_test_ori = df_test.copy()"
   ]
  },
  {
   "cell_type": "markdown",
   "metadata": {},
   "source": [
    "### Data Exploration & Preprocessing Phase  \n",
    "1. Explore dataframe summary (min, max, median, etc..)\n",
    "    - All variables are numeric, except target class.\n",
    "2. Check target class for missing values :  \n",
    "    - There is no missing value in target class, however it is highly imbalance.  \n",
    "    Need to be careful if prediction is predicting 1 class only.\n",
    "    - Negative class is ~98.33%.\n",
    "    - Transform target class to binary (Label Encoding)\n",
    "3. Check predictors for missing values :  \n",
    "    - There is 42 features with >5% missing values\n",
    "    - There is 7 features with **>70%** missing values\n",
    "    - This need to be addressed before training by dropping/imputing\n",
    "4. Explore pairwise relationship between predictors"
   ]
  },
  {
   "cell_type": "code",
   "execution_count": 4,
   "metadata": {},
   "outputs": [
    {
     "name": "stdout",
     "output_type": "stream",
     "text": [
      "Total columns = 171\n",
      "Total numeric columns = 170\n"
     ]
    },
    {
     "data": {
      "text/html": [
       "<div>\n",
       "<style scoped>\n",
       "    .dataframe tbody tr th:only-of-type {\n",
       "        vertical-align: middle;\n",
       "    }\n",
       "\n",
       "    .dataframe tbody tr th {\n",
       "        vertical-align: top;\n",
       "    }\n",
       "\n",
       "    .dataframe thead th {\n",
       "        text-align: right;\n",
       "    }\n",
       "</style>\n",
       "<table border=\"1\" class=\"dataframe\">\n",
       "  <thead>\n",
       "    <tr style=\"text-align: right;\">\n",
       "      <th></th>\n",
       "      <th>aa_000</th>\n",
       "      <th>ab_000</th>\n",
       "      <th>ac_000</th>\n",
       "      <th>ad_000</th>\n",
       "      <th>ae_000</th>\n",
       "      <th>af_000</th>\n",
       "      <th>ag_000</th>\n",
       "      <th>ag_001</th>\n",
       "      <th>ag_002</th>\n",
       "      <th>ag_003</th>\n",
       "      <th>...</th>\n",
       "      <th>ee_002</th>\n",
       "      <th>ee_003</th>\n",
       "      <th>ee_004</th>\n",
       "      <th>ee_005</th>\n",
       "      <th>ee_006</th>\n",
       "      <th>ee_007</th>\n",
       "      <th>ee_008</th>\n",
       "      <th>ee_009</th>\n",
       "      <th>ef_000</th>\n",
       "      <th>eg_000</th>\n",
       "    </tr>\n",
       "  </thead>\n",
       "  <tbody>\n",
       "    <tr>\n",
       "      <th>count</th>\n",
       "      <td>6.000000e+04</td>\n",
       "      <td>13671.000000</td>\n",
       "      <td>5.666500e+04</td>\n",
       "      <td>4.513900e+04</td>\n",
       "      <td>57500.000000</td>\n",
       "      <td>57500.000000</td>\n",
       "      <td>5.932900e+04</td>\n",
       "      <td>5.932900e+04</td>\n",
       "      <td>5.932900e+04</td>\n",
       "      <td>5.932900e+04</td>\n",
       "      <td>...</td>\n",
       "      <td>5.932900e+04</td>\n",
       "      <td>5.932900e+04</td>\n",
       "      <td>5.932900e+04</td>\n",
       "      <td>5.932900e+04</td>\n",
       "      <td>5.932900e+04</td>\n",
       "      <td>5.932900e+04</td>\n",
       "      <td>5.932900e+04</td>\n",
       "      <td>5.932900e+04</td>\n",
       "      <td>57276.000000</td>\n",
       "      <td>57277.000000</td>\n",
       "    </tr>\n",
       "    <tr>\n",
       "      <th>mean</th>\n",
       "      <td>5.933650e+04</td>\n",
       "      <td>0.713189</td>\n",
       "      <td>3.560143e+08</td>\n",
       "      <td>1.906206e+05</td>\n",
       "      <td>6.819130</td>\n",
       "      <td>11.006817</td>\n",
       "      <td>2.216364e+02</td>\n",
       "      <td>9.757223e+02</td>\n",
       "      <td>8.606015e+03</td>\n",
       "      <td>8.859128e+04</td>\n",
       "      <td>...</td>\n",
       "      <td>4.454897e+05</td>\n",
       "      <td>2.111264e+05</td>\n",
       "      <td>4.457343e+05</td>\n",
       "      <td>3.939462e+05</td>\n",
       "      <td>3.330582e+05</td>\n",
       "      <td>3.462714e+05</td>\n",
       "      <td>1.387300e+05</td>\n",
       "      <td>8.388915e+03</td>\n",
       "      <td>0.090579</td>\n",
       "      <td>0.212756</td>\n",
       "    </tr>\n",
       "    <tr>\n",
       "      <th>std</th>\n",
       "      <td>1.454301e+05</td>\n",
       "      <td>3.478962</td>\n",
       "      <td>7.948749e+08</td>\n",
       "      <td>4.040441e+07</td>\n",
       "      <td>161.543373</td>\n",
       "      <td>209.792592</td>\n",
       "      <td>2.047846e+04</td>\n",
       "      <td>3.420053e+04</td>\n",
       "      <td>1.503220e+05</td>\n",
       "      <td>7.617312e+05</td>\n",
       "      <td>...</td>\n",
       "      <td>1.155540e+06</td>\n",
       "      <td>5.433188e+05</td>\n",
       "      <td>1.168314e+06</td>\n",
       "      <td>1.121044e+06</td>\n",
       "      <td>1.069160e+06</td>\n",
       "      <td>1.728056e+06</td>\n",
       "      <td>4.495100e+05</td>\n",
       "      <td>4.747043e+04</td>\n",
       "      <td>4.368855</td>\n",
       "      <td>8.830641</td>\n",
       "    </tr>\n",
       "    <tr>\n",
       "      <th>min</th>\n",
       "      <td>0.000000e+00</td>\n",
       "      <td>0.000000</td>\n",
       "      <td>0.000000e+00</td>\n",
       "      <td>0.000000e+00</td>\n",
       "      <td>0.000000</td>\n",
       "      <td>0.000000</td>\n",
       "      <td>0.000000e+00</td>\n",
       "      <td>0.000000e+00</td>\n",
       "      <td>0.000000e+00</td>\n",
       "      <td>0.000000e+00</td>\n",
       "      <td>...</td>\n",
       "      <td>0.000000e+00</td>\n",
       "      <td>0.000000e+00</td>\n",
       "      <td>0.000000e+00</td>\n",
       "      <td>0.000000e+00</td>\n",
       "      <td>0.000000e+00</td>\n",
       "      <td>0.000000e+00</td>\n",
       "      <td>0.000000e+00</td>\n",
       "      <td>0.000000e+00</td>\n",
       "      <td>0.000000</td>\n",
       "      <td>0.000000</td>\n",
       "    </tr>\n",
       "    <tr>\n",
       "      <th>25%</th>\n",
       "      <td>8.340000e+02</td>\n",
       "      <td>0.000000</td>\n",
       "      <td>1.600000e+01</td>\n",
       "      <td>2.400000e+01</td>\n",
       "      <td>0.000000</td>\n",
       "      <td>0.000000</td>\n",
       "      <td>0.000000e+00</td>\n",
       "      <td>0.000000e+00</td>\n",
       "      <td>0.000000e+00</td>\n",
       "      <td>0.000000e+00</td>\n",
       "      <td>...</td>\n",
       "      <td>2.936000e+03</td>\n",
       "      <td>1.166000e+03</td>\n",
       "      <td>2.700000e+03</td>\n",
       "      <td>3.584000e+03</td>\n",
       "      <td>5.120000e+02</td>\n",
       "      <td>1.100000e+02</td>\n",
       "      <td>0.000000e+00</td>\n",
       "      <td>0.000000e+00</td>\n",
       "      <td>0.000000</td>\n",
       "      <td>0.000000</td>\n",
       "    </tr>\n",
       "    <tr>\n",
       "      <th>50%</th>\n",
       "      <td>3.077600e+04</td>\n",
       "      <td>0.000000</td>\n",
       "      <td>1.520000e+02</td>\n",
       "      <td>1.260000e+02</td>\n",
       "      <td>0.000000</td>\n",
       "      <td>0.000000</td>\n",
       "      <td>0.000000e+00</td>\n",
       "      <td>0.000000e+00</td>\n",
       "      <td>0.000000e+00</td>\n",
       "      <td>0.000000e+00</td>\n",
       "      <td>...</td>\n",
       "      <td>2.337960e+05</td>\n",
       "      <td>1.120860e+05</td>\n",
       "      <td>2.215180e+05</td>\n",
       "      <td>1.899880e+05</td>\n",
       "      <td>9.243200e+04</td>\n",
       "      <td>4.109800e+04</td>\n",
       "      <td>3.812000e+03</td>\n",
       "      <td>0.000000e+00</td>\n",
       "      <td>0.000000</td>\n",
       "      <td>0.000000</td>\n",
       "    </tr>\n",
       "    <tr>\n",
       "      <th>75%</th>\n",
       "      <td>4.866800e+04</td>\n",
       "      <td>0.000000</td>\n",
       "      <td>9.640000e+02</td>\n",
       "      <td>4.300000e+02</td>\n",
       "      <td>0.000000</td>\n",
       "      <td>0.000000</td>\n",
       "      <td>0.000000e+00</td>\n",
       "      <td>0.000000e+00</td>\n",
       "      <td>0.000000e+00</td>\n",
       "      <td>0.000000e+00</td>\n",
       "      <td>...</td>\n",
       "      <td>4.383960e+05</td>\n",
       "      <td>2.182320e+05</td>\n",
       "      <td>4.666140e+05</td>\n",
       "      <td>4.032220e+05</td>\n",
       "      <td>2.750940e+05</td>\n",
       "      <td>1.678140e+05</td>\n",
       "      <td>1.397240e+05</td>\n",
       "      <td>2.028000e+03</td>\n",
       "      <td>0.000000</td>\n",
       "      <td>0.000000</td>\n",
       "    </tr>\n",
       "    <tr>\n",
       "      <th>max</th>\n",
       "      <td>2.746564e+06</td>\n",
       "      <td>204.000000</td>\n",
       "      <td>2.130707e+09</td>\n",
       "      <td>8.584298e+09</td>\n",
       "      <td>21050.000000</td>\n",
       "      <td>20070.000000</td>\n",
       "      <td>3.376892e+06</td>\n",
       "      <td>4.109372e+06</td>\n",
       "      <td>1.055286e+07</td>\n",
       "      <td>6.340207e+07</td>\n",
       "      <td>...</td>\n",
       "      <td>7.793393e+07</td>\n",
       "      <td>3.775839e+07</td>\n",
       "      <td>9.715238e+07</td>\n",
       "      <td>5.743524e+07</td>\n",
       "      <td>3.160781e+07</td>\n",
       "      <td>1.195801e+08</td>\n",
       "      <td>1.926740e+07</td>\n",
       "      <td>3.810078e+06</td>\n",
       "      <td>482.000000</td>\n",
       "      <td>1146.000000</td>\n",
       "    </tr>\n",
       "  </tbody>\n",
       "</table>\n",
       "<p>8 rows × 170 columns</p>\n",
       "</div>"
      ],
      "text/plain": [
       "             aa_000        ab_000        ac_000        ad_000        ae_000  \\\n",
       "count  6.000000e+04  13671.000000  5.666500e+04  4.513900e+04  57500.000000   \n",
       "mean   5.933650e+04      0.713189  3.560143e+08  1.906206e+05      6.819130   \n",
       "std    1.454301e+05      3.478962  7.948749e+08  4.040441e+07    161.543373   \n",
       "min    0.000000e+00      0.000000  0.000000e+00  0.000000e+00      0.000000   \n",
       "25%    8.340000e+02      0.000000  1.600000e+01  2.400000e+01      0.000000   \n",
       "50%    3.077600e+04      0.000000  1.520000e+02  1.260000e+02      0.000000   \n",
       "75%    4.866800e+04      0.000000  9.640000e+02  4.300000e+02      0.000000   \n",
       "max    2.746564e+06    204.000000  2.130707e+09  8.584298e+09  21050.000000   \n",
       "\n",
       "             af_000        ag_000        ag_001        ag_002        ag_003  \\\n",
       "count  57500.000000  5.932900e+04  5.932900e+04  5.932900e+04  5.932900e+04   \n",
       "mean      11.006817  2.216364e+02  9.757223e+02  8.606015e+03  8.859128e+04   \n",
       "std      209.792592  2.047846e+04  3.420053e+04  1.503220e+05  7.617312e+05   \n",
       "min        0.000000  0.000000e+00  0.000000e+00  0.000000e+00  0.000000e+00   \n",
       "25%        0.000000  0.000000e+00  0.000000e+00  0.000000e+00  0.000000e+00   \n",
       "50%        0.000000  0.000000e+00  0.000000e+00  0.000000e+00  0.000000e+00   \n",
       "75%        0.000000  0.000000e+00  0.000000e+00  0.000000e+00  0.000000e+00   \n",
       "max    20070.000000  3.376892e+06  4.109372e+06  1.055286e+07  6.340207e+07   \n",
       "\n",
       "       ...        ee_002        ee_003        ee_004        ee_005  \\\n",
       "count  ...  5.932900e+04  5.932900e+04  5.932900e+04  5.932900e+04   \n",
       "mean   ...  4.454897e+05  2.111264e+05  4.457343e+05  3.939462e+05   \n",
       "std    ...  1.155540e+06  5.433188e+05  1.168314e+06  1.121044e+06   \n",
       "min    ...  0.000000e+00  0.000000e+00  0.000000e+00  0.000000e+00   \n",
       "25%    ...  2.936000e+03  1.166000e+03  2.700000e+03  3.584000e+03   \n",
       "50%    ...  2.337960e+05  1.120860e+05  2.215180e+05  1.899880e+05   \n",
       "75%    ...  4.383960e+05  2.182320e+05  4.666140e+05  4.032220e+05   \n",
       "max    ...  7.793393e+07  3.775839e+07  9.715238e+07  5.743524e+07   \n",
       "\n",
       "             ee_006        ee_007        ee_008        ee_009        ef_000  \\\n",
       "count  5.932900e+04  5.932900e+04  5.932900e+04  5.932900e+04  57276.000000   \n",
       "mean   3.330582e+05  3.462714e+05  1.387300e+05  8.388915e+03      0.090579   \n",
       "std    1.069160e+06  1.728056e+06  4.495100e+05  4.747043e+04      4.368855   \n",
       "min    0.000000e+00  0.000000e+00  0.000000e+00  0.000000e+00      0.000000   \n",
       "25%    5.120000e+02  1.100000e+02  0.000000e+00  0.000000e+00      0.000000   \n",
       "50%    9.243200e+04  4.109800e+04  3.812000e+03  0.000000e+00      0.000000   \n",
       "75%    2.750940e+05  1.678140e+05  1.397240e+05  2.028000e+03      0.000000   \n",
       "max    3.160781e+07  1.195801e+08  1.926740e+07  3.810078e+06    482.000000   \n",
       "\n",
       "             eg_000  \n",
       "count  57277.000000  \n",
       "mean       0.212756  \n",
       "std        8.830641  \n",
       "min        0.000000  \n",
       "25%        0.000000  \n",
       "50%        0.000000  \n",
       "75%        0.000000  \n",
       "max     1146.000000  \n",
       "\n",
       "[8 rows x 170 columns]"
      ]
     },
     "execution_count": 4,
     "metadata": {},
     "output_type": "execute_result"
    }
   ],
   "source": [
    "# 1. Dataframe summary\n",
    "print('Total columns = {}'.format(df.shape[1]))\n",
    "print('Total numeric columns = {}'.format(df.select_dtypes(include='number').shape[1]))\n",
    "df.describe()"
   ]
  },
  {
   "cell_type": "code",
   "execution_count": 5,
   "metadata": {
    "scrolled": true
   },
   "outputs": [
    {
     "name": "stdout",
     "output_type": "stream",
     "text": [
      "target class, missing : 0\n",
      "target distribution : ['neg' 'pos'], [59000  1000]\n"
     ]
    },
    {
     "data": {
      "image/png": "[encoded data removed]",
      "text/plain": [
       "<Figure size 360x360 with 1 Axes>"
      ]
     },
     "metadata": {},
     "output_type": "display_data"
    }
   ],
   "source": [
    "# 2. Target variable exploration\n",
    "target_var = df[\"class\"].value_counts()\n",
    "\n",
    "# Data to plot\n",
    "labels = target_var.index\n",
    "values = target_var.values\n",
    "colors = ['lightgreen', 'red']\n",
    "explode = [0 if i=='neg' else 0.1 for i in target_var.index]\n",
    "\n",
    "# Create value & percentage label\n",
    "def make_autopct(values):\n",
    "    def my_autopct(pct):\n",
    "        total = sum(values)\n",
    "        val = int(round(pct*total/100.0))\n",
    "        return '{p:.2f}%  ({v:d})'.format(p=pct,v=val)\n",
    "    return my_autopct\n",
    "\n",
    "# Transform target variable to binary\n",
    "df['class'] = LabelEncoder().fit_transform(df['class'].values)\n",
    "\n",
    "\n",
    "missing_target = df[\"class\"].isna().sum()\n",
    "print('target class, missing : {}'.format(missing_target))\n",
    "print('target distribution : {0}, {1}'.format(labels.values, values))\n",
    "\n",
    "# Plot\n",
    "rcParams['figure.figsize'] = 5, 5\n",
    "plt.pie(values, labels = labels, explode = explode,\n",
    "        colors = colors, autopct = make_autopct(values), shadow = True, startangle = 140)\n",
    "plt.axis('equal')\n",
    "plt.show()"
   ]
  },
  {
   "cell_type": "code",
   "execution_count": 6,
   "metadata": {},
   "outputs": [
    {
     "name": "stdout",
     "output_type": "stream",
     "text": [
      "Predictors count : 170\n",
      "Predictors with >5% missing : 42\n",
      "Predictors with >20% missing : 24\n",
      "Predictors with >50% missing : 8\n",
      "Predictors with >70% missing : 7\n",
      "Predictors with >90% missing : 0\n"
     ]
    },
    {
     "data": {
      "image/png": "[encoded data removed]",
      "text/plain": [
       "<Figure size 842.4x595.44 with 1 Axes>"
      ]
     },
     "metadata": {},
     "output_type": "display_data"
    }
   ],
   "source": [
    "# 3A. Feature variables exploration\n",
    "missing_predictor = (df.loc[:,df.columns != 'class'].isnull().sum() /  \\\n",
    "                        df.loc[:,df.columns != 'class'].shape[0]).sort_values(ascending=False)\n",
    "\n",
    "# set seaborn plot figure size\n",
    "sns.set(rc={'figure.figsize':(11.7,8.27)})\n",
    "\n",
    "splt = sns.barplot(x = missing_predictor[missing_predictor.values > 0.05].index.values,  \\\n",
    "            y = missing_predictor[missing_predictor.values > 0.05].values)\n",
    "splt.set_title('Null Ratio For Predictors (>5%)')\n",
    "splt.set_xticklabels(splt.get_xticklabels(), rotation=90)\n",
    "\n",
    "print('Predictors count : {}'.format(len(missing_predictor)))\n",
    "print('Predictors with >5% missing : {}'.format(len(missing_predictor[missing_predictor.values > 0.05])))\n",
    "print('Predictors with >20% missing : {}'.format(len(missing_predictor[missing_predictor.values > 0.2])))\n",
    "print('Predictors with >50% missing : {}'.format(len(missing_predictor[missing_predictor.values > 0.5])))\n",
    "print('Predictors with >70% missing : {}'.format(len(missing_predictor[missing_predictor.values > 0.7])))\n",
    "print('Predictors with >90% missing : {}'.format(len(missing_predictor[missing_predictor.values > 0.9])))"
   ]
  },
  {
   "cell_type": "code",
   "execution_count": 7,
   "metadata": {},
   "outputs": [],
   "source": [
    "# 3B. Data preprocessing\n",
    "\n",
    "# find highly correlated variables\n",
    "def find_correlation(df, thresh=0.9):    \n",
    "    corrMatrix = df.corr()\n",
    "    corrMatrix.loc[:,:] =  np.tril(corrMatrix, k=-1)\n",
    "    already_in = set()\n",
    "    result = []\n",
    "    for col in corrMatrix:\n",
    "        perfect_corr = corrMatrix[col][corrMatrix[col] > thresh].index.tolist()\n",
    "        if perfect_corr and col not in already_in:\n",
    "            already_in.update(set(perfect_corr))\n",
    "            perfect_corr.append(col)\n",
    "            result.append(perfect_corr)\n",
    "    select_nested = [f[1:] for f in result]\n",
    "    select_flat = [i for j in select_nested for i in j]\n",
    "    return select_flat\n",
    "\n",
    "high_cor = find_correlation(df, 0.9)\n",
    "\n",
    "\n",
    "# drop highly correlated features\n",
    "df.drop(columns = high_cor, inplace = True)\n",
    "\n",
    "# drop predictors with >70% missing values\n",
    "df.drop(columns = set(missing_predictor[missing_predictor.values > 0.7].index.values) - set(high_cor), inplace = True)\n",
    "\n",
    "# impute remaining with median values\n",
    "imp_mean = SimpleImputer(strategy='median').fit(df)\n",
    "imp_df = imp_mean.transform(df)\n",
    "\n",
    "# Recreate dataframe after preprocessing\n",
    "df = pd.DataFrame(imp_df, columns = df.columns)"
   ]
  },
  {
   "cell_type": "code",
   "execution_count": 8,
   "metadata": {},
   "outputs": [],
   "source": [
    "# 3C. Finding important features\n",
    "X, y = df.iloc[:,1:], df.iloc[:,0]\n",
    "\n",
    "# train on randomForest to get important features\n",
    "clf = RandomForestClassifier(n_estimators=100, max_depth=2,\n",
    "                             random_state=0)\n",
    "clf.fit(X, y) \n",
    "\n",
    "feature_importances = pd.DataFrame(sorted(zip(df.columns, clf.feature_importances_), key=lambda x: x[1] * -1),\n",
    "                                    columns = ['feature','importance'])"
   ]
  },
  {
   "cell_type": "markdown",
   "metadata": {},
   "source": [
    "### Model Development\n",
    "1. Train Model with selected important features\n",
    "    - Logistic Classifier\n",
    "    - RandomForest Classifier\n",
    "2. Hypertune model parameters and identify best parameters for challenge metrics.\n",
    "3. Select best model that achieve best challenge metrics"
   ]
  },
  {
   "cell_type": "code",
   "execution_count": 9,
   "metadata": {},
   "outputs": [],
   "source": [
    "# Select non zero importance features\n",
    "top_features = feature_importances[feature_importances.importance>0]['feature'].values\n",
    "\n",
    "X, y = df.loc[:,top_features], df.loc[:,'class']\n",
    "\n",
    "# scale data\n",
    "scaler = StandardScaler().fit(X)\n",
    "X = scaler.transform(X)\n",
    "\n",
    "# split data\n",
    "X_train, X_test, y_train, y_test = train_test_split(X, y, test_size = 0.2, random_state = 0)\n",
    "\n",
    "# Apply SMOTE to address imbalance class issue\n",
    "# sm = SMOTE(random_state=0)\n",
    "# X_train, y_train = sm.fit_sample(X_train, y_train.ravel())"
   ]
  },
  {
   "cell_type": "code",
   "execution_count": 10,
   "metadata": {},
   "outputs": [],
   "source": [
    "# define function to calculate challenge metric \n",
    "def cal_metric(y_pred, y_actual):\n",
    "    \"\"\"\n",
    "     Predicted class |      True class       |\n",
    "                     |    pos    |    neg    |\n",
    "     -----------------------------------------\n",
    "      pos            |     -     |  Cost_1   |\n",
    "     -----------------------------------------\n",
    "      neg            |  Cost_2   |     -     |\n",
    "     -----------------------------------------\n",
    "     Cost_1 = 10 and cost_2 = 500\n",
    "\n",
    "     Total_cost = Cost_1*No_Instances + Cost_2*No_Instances.\n",
    "    \"\"\"\n",
    "    cost_1 = 10\n",
    "    cost_2 = 500\n",
    "    tn, fp, fn, tp = confusion_matrix(y_true=y_actual, y_pred=y_pred).ravel()\n",
    "    return (cost_1 * fp) + (cost_2 * fn)"
   ]
  },
  {
   "cell_type": "code",
   "execution_count": 11,
   "metadata": {},
   "outputs": [],
   "source": [
    "# Create dataframe to store classifiers results\n",
    "train_test_result = pd.DataFrame(columns = ['Best Estimator', 'Best Params', 'Best Score', 'Test ROC', \n",
    "                                            'Test Accuracy', 'Test Challenge Metric'])"
   ]
  },
  {
   "cell_type": "code",
   "execution_count": 12,
   "metadata": {
    "scrolled": true
   },
   "outputs": [
    {
     "name": "stdout",
     "output_type": "stream",
     "text": [
      "Test ROC : 0.7413823555385476, Test Accuracy : 0.9911666666666666, Test Challenge Metric : 6450\n"
     ]
    }
   ],
   "source": [
    "# # params = {'n_estimators': [100, 200, 300, 500],\n",
    "# #           'max_depth' : [3, 5, 7, 9],\n",
    "# #           'min_samples_split' : [2, 3, 5, 7],\n",
    "# #           'min_samples_leaf' : [2, 3, 5, 7],\n",
    "# #           'random_state' : [1]\n",
    "# #          }\n",
    "# params = {'n_estimators': [200, 300],\n",
    "#   'max_depth' : [3, 5],\n",
    "#   'min_samples_split' : [2, 3],\n",
    "#   'min_samples_leaf' : [2, 3],\n",
    "#   'random_state' : [1]\n",
    "#  }\n",
    "\n",
    "# helper_clf = GridSearchCV(RandomForestClassifier(), params, scoring = 'roc_auc',\n",
    "#                           cv = 5, verbose = 10, n_jobs = 6, return_train_score = True)\n",
    "# helper_clf.fit(X_train, y_train)\n",
    "helper_clf = pickle.load(open('rf_clf.pkl', 'rb'))\n",
    "y_pred = helper_clf.predict(X_test)\n",
    "\n",
    "roc_score = metrics.roc_auc_score(y_test, y_pred)\n",
    "acu_score = metrics.accuracy_score(y_test, y_pred)\n",
    "chal_score = cal_metric(y_test, y_pred)\n",
    "\n",
    "train_test_result = train_test_result.append(pd.DataFrame([(helper_clf.best_estimator_, helper_clf.best_params_, \n",
    "                                        helper_clf.best_score_, roc_score, acu_score, chal_score)],                                      \n",
    "                                        columns = ['Best Estimator', 'Best Params', 'Best Score', 'Test ROC', \n",
    "                                                   'Test Accuracy','Test Challenge Metric']))\n",
    "\n",
    "print('Test ROC : {}, Test Accuracy : {}, Test Challenge Metric : {}'.format(roc_score, acu_score, chal_score))\n",
    "# pickle.dump(helper_clf, open('rf_clf.pkl', 'wb'))"
   ]
  },
  {
   "cell_type": "code",
   "execution_count": 13,
   "metadata": {},
   "outputs": [
    {
     "name": "stdout",
     "output_type": "stream",
     "text": [
      "Test ROC : 0.7731870566071061, Test Accuracy : 0.9905833333333334, Test Challenge Metric : 15830\n"
     ]
    }
   ],
   "source": [
    "# params = {'C': np.linspace(1,10,10) ,\n",
    "#           'penalty': ['l1', 'l2'], \n",
    "#           'solver' : ['liblinear'],\n",
    "#           'random_state' : [1] }\n",
    "          \n",
    "# helper_clf = GridSearchCV(LogisticRegression(), params, scoring = 'roc_auc',\n",
    "#                           cv = 5, verbose = 10, n_jobs = 6, return_train_score = True)\n",
    "# helper_clf.fit(X_train, y_train)\n",
    "helper_clf = pickle.load(open('logit_clf.pkl', 'rb'))\n",
    "y_pred = helper_clf.predict(X_test)\n",
    "\n",
    "roc_score = metrics.roc_auc_score(y_test, y_pred)\n",
    "acu_score = metrics.accuracy_score(y_test, y_pred)\n",
    "chal_score = cal_metric(y_test, y_pred)\n",
    "\n",
    "train_test_result = train_test_result.append(pd.DataFrame([(helper_clf.best_estimator_, helper_clf.best_params_, \n",
    "                                        helper_clf.best_score_, roc_score, acu_score, chal_score)],                                      \n",
    "                                        columns = ['Best Estimator', 'Best Params', 'Best Score', 'Test ROC', \n",
    "                                                   'Test Accuracy','Test Challenge Metric']))\n",
    "\n",
    "print('Test ROC : {}, Test Accuracy : {}, Test Challenge Metric : {}'.format(roc_score, acu_score, chal_score))\n",
    "# pickle.dump(helper_clf, open('logit_clf.pkl', 'wb'))"
   ]
  },
  {
   "cell_type": "code",
   "execution_count": 14,
   "metadata": {},
   "outputs": [
    {
     "data": {
      "text/html": [
       "<div>\n",
       "<style scoped>\n",
       "    .dataframe tbody tr th:only-of-type {\n",
       "        vertical-align: middle;\n",
       "    }\n",
       "\n",
       "    .dataframe tbody tr th {\n",
       "        vertical-align: top;\n",
       "    }\n",
       "\n",
       "    .dataframe thead th {\n",
       "        text-align: right;\n",
       "    }\n",
       "</style>\n",
       "<table border=\"1\" class=\"dataframe\">\n",
       "  <thead>\n",
       "    <tr style=\"text-align: right;\">\n",
       "      <th></th>\n",
       "      <th>Best Estimator</th>\n",
       "      <th>Best Params</th>\n",
       "      <th>Best Score</th>\n",
       "      <th>Test ROC</th>\n",
       "      <th>Test Accuracy</th>\n",
       "      <th>Test Challenge Metric</th>\n",
       "    </tr>\n",
       "  </thead>\n",
       "  <tbody>\n",
       "    <tr>\n",
       "      <th>0</th>\n",
       "      <td>(DecisionTreeClassifier(class_weight=None, cri...</td>\n",
       "      <td>{'max_depth': 5, 'min_samples_leaf': 3, 'min_s...</td>\n",
       "      <td>0.983202</td>\n",
       "      <td>0.741382</td>\n",
       "      <td>0.991167</td>\n",
       "      <td>6450</td>\n",
       "    </tr>\n",
       "    <tr>\n",
       "      <th>0</th>\n",
       "      <td>LogisticRegression(C=1.0, class_weight=None, d...</td>\n",
       "      <td>{'C': 1.0, 'penalty': 'l1', 'random_state': 1,...</td>\n",
       "      <td>0.967740</td>\n",
       "      <td>0.773187</td>\n",
       "      <td>0.990583</td>\n",
       "      <td>15830</td>\n",
       "    </tr>\n",
       "  </tbody>\n",
       "</table>\n",
       "</div>"
      ],
      "text/plain": [
       "                                      Best Estimator  \\\n",
       "0  (DecisionTreeClassifier(class_weight=None, cri...   \n",
       "0  LogisticRegression(C=1.0, class_weight=None, d...   \n",
       "\n",
       "                                         Best Params  Best Score  Test ROC  \\\n",
       "0  {'max_depth': 5, 'min_samples_leaf': 3, 'min_s...    0.983202  0.741382   \n",
       "0  {'C': 1.0, 'penalty': 'l1', 'random_state': 1,...    0.967740  0.773187   \n",
       "\n",
       "   Test Accuracy Test Challenge Metric  \n",
       "0       0.991167                  6450  \n",
       "0       0.990583                 15830  "
      ]
     },
     "execution_count": 14,
     "metadata": {},
     "output_type": "execute_result"
    }
   ],
   "source": [
    "# Best Trained Estimator & Results\n",
    "train_test_result"
   ]
  },
  {
   "cell_type": "markdown",
   "metadata": {},
   "source": [
    "## Model Optimization & Improvement\n",
    "1. Based on GridSearchCV results :\n",
    "    - RandomForst model with hypertuning able to achieve test accuracy of 0.9912 and challenge metric of **6450** after 80 fits.\n",
    "    - Logistic model with hypertuning able to achieve test accuracy of 0.9905 and challenge metric of **15830** after 100 fits\n",
    "2. Next, I tried to optimise the logistic regression threshold to achieve a better challenge metric. I was able to achieve **10900** using threshold of 0.0071\n",
    "3. RandomForest still performs better than logistic regression after tuning threshold."
   ]
  },
  {
   "cell_type": "code",
   "execution_count": 15,
   "metadata": {
    "scrolled": false
   },
   "outputs": [
    {
     "name": "stderr",
     "output_type": "stream",
     "text": [
      "100%|████████████████████████████████████████████████████████████████████████████████| 642/642 [00:18<00:00, 34.90it/s]\n"
     ]
    },
    {
     "name": "stdout",
     "output_type": "stream",
     "text": [
      "Best threshold: 0.0071\n",
      "Min cost: 10900.00\n"
     ]
    },
    {
     "data": {
      "image/png": "[encoded data removed]",
      "text/plain": [
       "<Figure size 576x288 with 1 Axes>"
      ]
     },
     "metadata": {},
     "output_type": "display_data"
    }
   ],
   "source": [
    "# Optimizing LogisticRegression thresholds\n",
    "\n",
    "logit_clf = pickle.load(open('logit_clf.pkl', 'rb'))\n",
    "\n",
    "scores = logit_clf.predict_proba(X_test)[:,1]\n",
    "fpr, tpr, thresholds = metrics.roc_curve(y_test, scores)\n",
    "\n",
    "min_cost = np.inf\n",
    "best_threshold = 0.5\n",
    "costs = []\n",
    "for threshold in tqdm(thresholds):\n",
    "    y_pred_threshold = scores > threshold\n",
    "    tn, fp, fn, tp = confusion_matrix(y_test, y_pred_threshold).ravel()\n",
    "    cost = 10*fp + 500*fn\n",
    "    costs.append(cost)\n",
    "    if cost < min_cost:\n",
    "        min_cost = cost\n",
    "        best_threshold = threshold\n",
    "print(\"Best threshold: {:.4f}\".format(best_threshold))\n",
    "print(\"Min cost: {:.2f}\".format(min_cost))\n",
    "\n",
    "plt.figure(figsize=(8,4))\n",
    "plt.scatter(x=thresholds, marker='.', y=costs)\n",
    "plt.title('Cost per threshold')\n",
    "plt.xlabel('threshold')\n",
    "plt.ylabel('cost')\n",
    "plt.show()"
   ]
  },
  {
   "cell_type": "markdown",
   "metadata": {},
   "source": [
    "## Model Validation on Test Set\n",
    "1. Finally, using RandomForest model, validate on test set data.\n",
    "2. Achieved 0.9863 accuracy with 6110 challenge metric."
   ]
  },
  {
   "cell_type": "code",
   "execution_count": 16,
   "metadata": {},
   "outputs": [],
   "source": [
    "# transform target class to binary\n",
    "df_test['class'] = LabelEncoder().fit_transform(df_test['class'].values)\n",
    "\n",
    "# drop highly correlated features\n",
    "df_test.drop(columns = high_cor, inplace = True)\n",
    "\n",
    "# drop predictors with >70% missing values\n",
    "df_test.drop(columns = set(missing_predictor[missing_predictor.values > 0.7].index.values) - set(high_cor), inplace = True)\n",
    "\n",
    "# impute missing with median values\n",
    "imp_df_test = imp_mean.transform(df_test)\n",
    "df_test = pd.DataFrame(imp_df_test, columns = df_test.columns)\n",
    "\n",
    "# select top features\n",
    "X, y = df_test.loc[:,top_features], df_test.loc[:,'class']\n",
    "\n",
    "# scale data\n",
    "scaler = StandardScaler().fit(X)\n",
    "X = scaler.transform(X)"
   ]
  },
  {
   "cell_type": "code",
   "execution_count": 17,
   "metadata": {},
   "outputs": [
    {
     "name": "stdout",
     "output_type": "stream",
     "text": [
      "Test ROC : 0.7184106666666668, Test Accuracy : 0.9863125, Test Challenge Metric : 6110\n"
     ]
    }
   ],
   "source": [
    "helper_clf = pickle.load(open('rf_clf.pkl', 'rb'))\n",
    "y_pred = helper_clf.predict(X)\n",
    "\n",
    "roc_score = metrics.roc_auc_score(y, y_pred)\n",
    "acu_score = metrics.accuracy_score(y, y_pred)\n",
    "chal_score = cal_metric(y, y_pred)\n",
    "\n",
    "train_test_result = train_test_result.append(pd.DataFrame([(helper_clf.best_estimator_, helper_clf.best_params_, \n",
    "                                        helper_clf.best_score_, roc_score, acu_score, chal_score)],                                      \n",
    "                                        columns = ['Best Estimator', 'Best Params', 'Best Score', 'Test ROC', \n",
    "                                                   'Test Accuracy','Test Challenge Metric']))\n",
    "\n",
    "print('Test ROC : {}, Test Accuracy : {}, Test Challenge Metric : {}'.format(roc_score, acu_score, chal_score))"
   ]
  }
 ],
 "metadata": {
  "kernelspec": {
   "display_name": "Python 3",
   "language": "python",
   "name": "python3"
  },
  "language_info": {
   "codemirror_mode": {
    "name": "ipython",
    "version": 3
   },
   "file_extension": ".py",
   "mimetype": "text/x-python",
   "name": "python",
   "nbconvert_exporter": "python",
   "pygments_lexer": "ipython3",
   "version": "3.7.3"
  }
 },
 "nbformat": 4,
 "nbformat_minor": 2
}
